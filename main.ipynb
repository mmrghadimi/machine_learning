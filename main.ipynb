{
 "cells": [
  {
   "cell_type": "code",
   "execution_count": 6,
   "outputs": [
    {
     "name": "stdout",
     "output_type": "stream",
     "text": [
      " Volume in drive C has no label.\n",
      " Volume Serial Number is EEC7-CAC9\n",
      "\n",
      " Directory of C:\\Users\\cryman\n",
      "\n",
      "10/07/2021  09:44 PM    <DIR>          .\n",
      "10/07/2021  09:44 PM    <DIR>          ..\n",
      "10/07/2021  02:12 AM            18,253 .bash_history\n",
      "09/24/2021  09:28 PM    <DIR>          .cfx\n",
      "04/11/2021  09:34 PM    <DIR>          .cisco\n",
      "09/26/2021  01:21 AM            11,066 .cxlayout.ini\n",
      "09/26/2021  01:21 AM               430 .flrecent\n",
      "09/26/2021  12:36 AM    <DIR>          .fluentconf\n",
      "10/06/2021  08:11 PM               164 .gitconfig\n",
      "10/06/2021  08:16 PM    <DIR>          .gnupg\n",
      "10/07/2021  09:35 PM    <DIR>          .ipynb_checkpoints\n",
      "10/07/2021  09:30 PM    <DIR>          .ipython\n",
      "10/07/2021  09:44 PM    <DIR>          .jupyter\n",
      "10/07/2021  01:15 AM                20 .lesshst\n",
      "10/06/2021  08:26 PM               868 .viminfo\n",
      "08/05/2020  03:22 AM    <DIR>          .vscode\n",
      "05/29/2021  04:03 PM    <DIR>          3D Objects\n",
      "10/07/2021  09:42 PM             1,890 aham.ipynb\n",
      "10/07/2021  03:00 AM    <DIR>          anaconda3\n",
      "05/21/2021  11:01 AM    <DIR>          Contacts\n",
      "10/07/2021  09:07 PM    <DIR>          Desktop\n",
      "10/07/2021  02:59 AM    <DIR>          Documents\n",
      "10/07/2021  07:47 PM    <DIR>          Downloads\n",
      "08/05/2020  04:55 AM    <DIR>          Evernote\n",
      "05/21/2021  11:01 AM    <DIR>          Favorites\n",
      "05/21/2021  11:01 AM    <DIR>          Links\n",
      "05/21/2021  11:01 AM    <DIR>          Music\n",
      "08/01/2021  10:59 PM    <DIR>          OneDrive\n",
      "10/06/2021  09:49 PM    <DIR>          Pictures\n",
      "10/07/2021  09:34 PM    <DIR>          PycharmProjects\n",
      "05/21/2021  11:01 AM    <DIR>          Saved Games\n",
      "05/21/2021  11:01 AM    <DIR>          Searches\n",
      "05/21/2021  11:01 AM    <DIR>          Videos\n",
      "               7 File(s)         32,691 bytes\n",
      "              26 Dir(s)  73,975,181,312 bytes free\n"
     ]
    }
   ],
   "source": [
    "ls"
   ],
   "metadata": {
    "collapsed": false,
    "pycharm": {
     "name": "#%%\n"
    }
   }
  }
 ],
 "metadata": {
  "kernelspec": {
   "display_name": "Python 3",
   "language": "python",
   "name": "python3"
  },
  "language_info": {
   "codemirror_mode": {
    "name": "ipython",
    "version": 2
   },
   "file_extension": ".py",
   "mimetype": "text/x-python",
   "name": "python",
   "nbconvert_exporter": "python",
   "pygments_lexer": "ipython2",
   "version": "2.7.6"
  }
 },
 "nbformat": 4,
 "nbformat_minor": 0
}